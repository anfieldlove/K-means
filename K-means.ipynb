{
 "cells": [
  {
   "cell_type": "code",
   "execution_count": 15,
   "metadata": {},
   "outputs": [],
   "source": [
    "import numpy as np"
   ]
  },
  {
   "cell_type": "code",
   "execution_count": 16,
   "metadata": {},
   "outputs": [],
   "source": [
    "class KMeans():\n",
    "    def __init__(self, n_clusters):\n",
    "        \"\"\"\n",
    "        Args:\n",
    "            n_clusters (int): Number of clusters to cluster the given data into.\n",
    "        \"\"\"\n",
    "        \n",
    "        self.n_clusters = n_clusters\n",
    "        self.means = None\n",
    "        self.labels = None\n",
    "        self.assignments_change = None\n",
    "    def fit(self, features):\n",
    "        \"\"\"\n",
    "        Fit KMeans to the given data using `self.n_clusters` number of clusters.\n",
    "        Features can have greater than 2 dimensions.\n",
    "\n",
    "        Args:\n",
    "            features (np.ndarray): array containing inputs of size\n",
    "                (n_samples, n_features).\n",
    "        Returns:\n",
    "            None (saves model - means - internally)\n",
    "        \"\"\"\n",
    "        self.means = []\n",
    "        self.labels = [0 for i in range(len(features))]\n",
    "        for i in range(self.n_clusters):\n",
    "            self.means.append(features[i])\n",
    "        self.assignments_change = True\n",
    "        time = 0\n",
    "        self.means = list(self.means)\n",
    "\n",
    "        while self.assignments_change == True:\n",
    "            self.update_assignments(features)\n",
    "            self.update_means(features)\n",
    "            time += 1\n",
    "            if time == 10:\n",
    "                break\n",
    "\n",
    "    def update_assignments(self, features):\n",
    "        new_labels = []\n",
    "        for i in range(len(features)):\n",
    "            distances = []\n",
    "            for j in range(len(self.means)):\n",
    "                distances.append(np.sum((features[i] - self.means[j]) ** 2))\n",
    "            new_labels.append(np.argmin(distances))\n",
    "        if new_labels == self.labels:\n",
    "            self.assignments_change = False\n",
    "        else:\n",
    "            self.labels = new_labels\n",
    "\n",
    "    def update_means(self, features):\n",
    "        self.means = []\n",
    "        for i in range(self.n_clusters):\n",
    "            new_mean = []\n",
    "            for j in range(len(self.labels)):\n",
    "                if self.labels[j] == i:\n",
    "                    new_mean.append(features[j])\n",
    "            self.means.append(np.mean(np.array(new_mean), axis=0))\n",
    "\n",
    "    def predict(self, features):\n",
    "        \"\"\"\n",
    "        Given features, an np.ndarray of size (n_samples, n_features), predict cluster\n",
    "        membership labels.\n",
    "\n",
    "        Args:\n",
    "            features (np.ndarray): array containing inputs of size\n",
    "                (n_samples, n_features).\n",
    "        Returns:\n",
    "            predictions (np.ndarray): predicted cluster membership for each features,\n",
    "                of size (n_samples,). Each element of the array is the index of the\n",
    "                cluster the sample belongs to.\n",
    "        \"\"\"\n",
    "        predict = []\n",
    "        for i in range(len(features)):\n",
    "            distances = []\n",
    "            for j in range(len(self.means)):\n",
    "                distances.append(np.sum((features[i] - self.means[j]) ** 2))\n",
    "            predict.append(np.argmin(distances))\n",
    "\n",
    "        return predict\n",
    "                "
   ]
  },
  {
   "cell_type": "code",
   "execution_count": 17,
   "metadata": {},
   "outputs": [],
   "source": [
    "kmean = KMeans(3)"
   ]
  },
  {
   "cell_type": "code",
   "execution_count": 19,
   "metadata": {},
   "outputs": [],
   "source": [
    "a=np.random.random((10,10))"
   ]
  },
  {
   "cell_type": "code",
   "execution_count": 20,
   "metadata": {},
   "outputs": [
    {
     "data": {
      "text/plain": [
       "array([[0.15192444, 0.63138776, 0.30129794, 0.96498439, 0.09694661,\n",
       "        0.20838533, 0.79105204, 0.44708058, 0.4424925 , 0.94162354],\n",
       "       [0.93432911, 0.79182538, 0.21257301, 0.75108243, 0.93470286,\n",
       "        0.93631129, 0.77239441, 0.53562628, 0.15973785, 0.75857229],\n",
       "       [0.36572489, 0.83589865, 0.16557974, 0.99412162, 0.51452886,\n",
       "        0.29169248, 0.58383211, 0.24824584, 0.13000273, 0.61916447],\n",
       "       [0.98379366, 0.53506944, 0.69333891, 0.13523703, 0.42159851,\n",
       "        0.34189126, 0.74463992, 0.29100152, 0.78800413, 0.26067651],\n",
       "       [0.99242071, 0.73384425, 0.41044478, 0.03141162, 0.3397715 ,\n",
       "        0.08985014, 0.31419869, 0.29872631, 0.75530335, 0.93879798],\n",
       "       [0.96393321, 0.75341797, 0.75456611, 0.21880317, 0.57331251,\n",
       "        0.27328443, 0.64036211, 0.20157068, 0.05196727, 0.33247168],\n",
       "       [0.82019292, 0.42873431, 0.12617901, 0.82815865, 0.36559459,\n",
       "        0.52915693, 0.87264132, 0.12663032, 0.74077913, 0.61009514],\n",
       "       [0.56151282, 0.21184024, 0.65748311, 0.05385098, 0.53529355,\n",
       "        0.57944177, 0.07495972, 0.31996295, 0.96877284, 0.09519517],\n",
       "       [0.47947006, 0.49441042, 0.4108224 , 0.83313926, 0.58824724,\n",
       "        0.1172854 , 0.9878639 , 0.53893799, 0.11263504, 0.3140516 ],\n",
       "       [0.42257509, 0.63580751, 0.27579765, 0.34235831, 0.43761992,\n",
       "        0.12870056, 0.00585442, 0.71950652, 0.3041933 , 0.43874222]])"
      ]
     },
     "execution_count": 20,
     "metadata": {},
     "output_type": "execute_result"
    }
   ],
   "source": [
    "a"
   ]
  },
  {
   "cell_type": "code",
   "execution_count": 21,
   "metadata": {},
   "outputs": [],
   "source": [
    "kmean.fit(a)\n"
   ]
  },
  {
   "cell_type": "code",
   "execution_count": 22,
   "metadata": {},
   "outputs": [
    {
     "name": "stdout",
     "output_type": "stream",
     "text": [
      "[0, 1, 2, 1, 0, 2, 1, 2, 2, 2]\n"
     ]
    }
   ],
   "source": [
    "print(kmean.labels)"
   ]
  },
  {
   "cell_type": "code",
   "execution_count": 23,
   "metadata": {},
   "outputs": [],
   "source": [
    "b = np.random.random((10,10))"
   ]
  },
  {
   "cell_type": "code",
   "execution_count": 25,
   "metadata": {},
   "outputs": [
    {
     "data": {
      "text/plain": [
       "[1, 2, 2, 0, 0, 1, 2, 2, 2, 1]"
      ]
     },
     "execution_count": 25,
     "metadata": {},
     "output_type": "execute_result"
    }
   ],
   "source": [
    "kmean.predict(b)"
   ]
  },
  {
   "cell_type": "code",
   "execution_count": null,
   "metadata": {},
   "outputs": [],
   "source": []
  }
 ],
 "metadata": {
  "kernelspec": {
   "display_name": "Python 3",
   "language": "python",
   "name": "python3"
  },
  "language_info": {
   "codemirror_mode": {
    "name": "ipython",
    "version": 3
   },
   "file_extension": ".py",
   "mimetype": "text/x-python",
   "name": "python",
   "nbconvert_exporter": "python",
   "pygments_lexer": "ipython3",
   "version": "3.7.0"
  }
 },
 "nbformat": 4,
 "nbformat_minor": 2
}
